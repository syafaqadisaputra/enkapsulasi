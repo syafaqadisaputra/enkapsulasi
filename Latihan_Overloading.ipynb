{
  "nbformat": 4,
  "nbformat_minor": 0,
  "metadata": {
    "colab": {
      "provenance": [],
      "include_colab_link": true
    },
    "kernelspec": {
      "name": "python3",
      "display_name": "Python 3"
    },
    "language_info": {
      "name": "python"
    }
  },
  "cells": [
    {
      "cell_type": "markdown",
      "metadata": {
        "id": "view-in-github",
        "colab_type": "text"
      },
      "source": [
        "<a href=\"https://colab.research.google.com/github/syafaqadisaputra/enkapsulasi/blob/main/Latihan_Overloading.ipynb\" target=\"_parent\"><img src=\"https://colab.research.google.com/assets/colab-badge.svg\" alt=\"Open In Colab\"/></a>"
      ]
    },
    {
      "cell_type": "code",
      "execution_count": 1,
      "metadata": {
        "id": "irSubk7rqvx6"
      },
      "outputs": [],
      "source": [
        "class Penjumlahan:\n",
        "    # method hasil() dengan variasi parameter\n",
        "    def hasil(self, *args):\n",
        "        if (len(args) <= 4):\n",
        "            sum = 0\n",
        "            for num in args:\n",
        "                sum += num\n",
        "            print(sum)\n",
        "        else:\n",
        "            print(\"Maksimum 4 argumen\")"
      ]
    },
    {
      "cell_type": "code",
      "source": [
        "coba = Penjumlahan()\n",
        "\n",
        "coba.hasil(1, 2)\n",
        "coba.hasil(1, 2, 3)\n",
        "coba.hasil(1, 2, 3, 4)"
      ],
      "metadata": {
        "colab": {
          "base_uri": "https://localhost:8080/"
        },
        "id": "nW6VoK0auuJ_",
        "outputId": "04eb7eb8-859e-41a4-9551-85f5df8c0acb"
      },
      "execution_count": 2,
      "outputs": [
        {
          "output_type": "stream",
          "name": "stdout",
          "text": [
            "3\n",
            "6\n",
            "10\n"
          ]
        }
      ]
    },
    {
      "cell_type": "code",
      "source": [
        "class Penjumlahan:\n",
        "    # method hasil() dengan variasi parameter\n",
        "    def hasil(self, *args):\n",
        "        jumlah = 0\n",
        "        for angka in args:\n",
        "            jumlah += angka\n",
        "        print(jumlah)"
      ],
      "metadata": {
        "id": "Q8kSxF_erWpX"
      },
      "execution_count": 3,
      "outputs": []
    },
    {
      "cell_type": "code",
      "source": [
        "coba = Penjumlahan()\n",
        "\n",
        "coba.hasil(1, 2)\n",
        "coba.hasil(1, 2, 3)\n",
        "coba.hasil(1, 2, 3, 4, 5)"
      ],
      "metadata": {
        "id": "KOnyLZScu5X3",
        "colab": {
          "base_uri": "https://localhost:8080/"
        },
        "outputId": "4ec586a2-ee01-4a19-f56e-ceb7499907f3"
      },
      "execution_count": 4,
      "outputs": [
        {
          "output_type": "stream",
          "name": "stdout",
          "text": [
            "3\n",
            "6\n",
            "15\n"
          ]
        }
      ]
    },
    {
      "cell_type": "code",
      "source": [
        "class Penjumlahan:\n",
        "    # method hasil() dengan variasi parameter\n",
        "    def hasil(self, *args):\n",
        "        if (len(args) <= 4):\n",
        "            sum = 0\n",
        "            for num in args:\n",
        "                sum += num\n",
        "            print(sum)\n",
        "        else:\n",
        "            print(\"Maksimum 4 argumen\")"
      ],
      "metadata": {
        "id": "NhNV1Ph5MJ36"
      },
      "execution_count": 5,
      "outputs": []
    },
    {
      "cell_type": "code",
      "source": [
        "coba = Penjumlahan()\n",
        "coba.hasil(1, 2)\n",
        "coba.hasil(1, 2, 3)\n",
        "coba.hasil(1, 2, 3, 4)\n",
        "coba.hasil(1, 2, 3, 4, 5)"
      ],
      "metadata": {
        "colab": {
          "base_uri": "https://localhost:8080/"
        },
        "id": "k_ockh2cMaj9",
        "outputId": "9611d4e6-fbdf-40c3-ea7f-61eb02821f1a"
      },
      "execution_count": 6,
      "outputs": [
        {
          "output_type": "stream",
          "name": "stdout",
          "text": [
            "3\n",
            "6\n",
            "10\n",
            "Maksimum 4 argumen\n"
          ]
        }
      ]
    }
  ]
}